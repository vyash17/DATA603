{
 "cells": [
  {
   "cell_type": "code",
   "execution_count": 14,
   "metadata": {},
   "outputs": [],
   "source": [
    "import warnings\n",
    "warnings.filterwarnings(\"ignore\", category=DeprecationWarning)"
   ]
  },
  {
   "cell_type": "code",
   "execution_count": 15,
   "metadata": {},
   "outputs": [],
   "source": [
    "def setLogLevel(self, logLevel):\n",
    "        \"\"\"\n",
    "        Control our logLevel. This overrides any user-defined log settings.\n",
    "        Valid log levels include: ALL, DEBUG, ERROR, FATAL, INFO, OFF, TRACE, WARN\n",
    "        \"\"\"\n",
    "        self._jsc.setLogLevel(logLevel)"
   ]
  },
  {
   "cell_type": "code",
   "execution_count": 16,
   "metadata": {},
   "outputs": [
    {
     "name": "stdout",
     "output_type": "stream",
     "text": [
      "23/03/30 16:11:14 WARN SparkSession: Using an existing Spark session; only runtime SQL configurations will take effect.\n"
     ]
    }
   ],
   "source": [
    "from pyspark.sql import SparkSession\n",
    "\n",
    "appName = \"Spark - Setting Log Level\"\n",
    "master = \"local\"\n",
    "\n",
    "# Create Spark session\n",
    "spark = SparkSession.builder \\\n",
    "    .appName(appName) \\\n",
    "    .master(master) \\\n",
    "    .getOrCreate()\n",
    "\n",
    "spark.sparkContext.setLogLevel(\"WARN\")"
   ]
  },
  {
   "cell_type": "code",
   "execution_count": 17,
   "metadata": {
    "colab": {
     "base_uri": "https://localhost:8080/"
    },
    "id": "yAKne2wqRjX1",
    "outputId": "196c8b8e-6336-4711-b70b-c3f692a2ef6c"
   },
   "outputs": [
    {
     "name": "stdout",
     "output_type": "stream",
     "text": [
      "Requirement already satisfied: pyspark in /Users/yashwanthvemulapalli/opt/anaconda3/lib/python3.9/site-packages (3.3.2)\n",
      "Requirement already satisfied: py4j==0.10.9.5 in /Users/yashwanthvemulapalli/opt/anaconda3/lib/python3.9/site-packages (from pyspark) (0.10.9.5)\n",
      "Note: you may need to restart the kernel to use updated packages.\n"
     ]
    }
   ],
   "source": [
    "pip install pyspark"
   ]
  },
  {
   "cell_type": "code",
   "execution_count": 18,
   "metadata": {
    "id": "7fxYoLD5PrWd"
   },
   "outputs": [
    {
     "name": "stdout",
     "output_type": "stream",
     "text": [
      "23/03/30 16:11:16 WARN SparkSession: Using an existing Spark session; only runtime SQL configurations will take effect.\n"
     ]
    }
   ],
   "source": [
    "from pyspark.sql import SparkSession\n",
    "from pyspark.sql.types import StructType, StructField, IntegerType, StringType, TimestampType, BooleanType, FloatType\n",
    "\n",
    "spark = SparkSession.builder.appName(\"crime_investigators\").getOrCreate()\n"
   ]
  },
  {
   "cell_type": "code",
   "execution_count": 19,
   "metadata": {
    "id": "tokTNmOLRdcf"
   },
   "outputs": [],
   "source": [
    "from pyspark.sql.types import StructType, StructField, StringType, IntegerType, DoubleType\n",
    "\n",
    "schema_dict = {\n",
    "    \"ID\": IntegerType(),\n",
    "    \"Case Number\": StringType(),\n",
    "    \"Date\": StringType(),\n",
    "    \"Block\": StringType(),\n",
    "    \"IUCR\": StringType(),\n",
    "    \"Primary Type\": StringType(),\n",
    "    \"Description\": StringType(),\n",
    "    \"Location Description\": StringType(),\n",
    "    \"Arrest\": StringType(),\n",
    "    \"Domestic\": StringType(),\n",
    "    \"Beat\": IntegerType(),\n",
    "    \"District\": IntegerType(),\n",
    "    \"Ward\": IntegerType(),\n",
    "    \"Community Area\": IntegerType(),\n",
    "    \"FBI Code\": StringType(),\n",
    "    \"X Coordinate\": DoubleType(),\n",
    "    \"Y Coordinate\": DoubleType(),\n",
    "    \"Year\": IntegerType(),\n",
    "    \"Updated On\": StringType(),\n",
    "    \"Latitude\": DoubleType(),\n",
    "    \"Longitude\": DoubleType(),\n",
    "    \"Location\": StringType(),\n",
    "}\n",
    "\n",
    "schema = StructType([StructField(k, v, True) for k, v in schema_dict.items()])\n"
   ]
  },
  {
   "cell_type": "code",
   "execution_count": 20,
   "metadata": {
    "id": "aKVLlULhS688"
   },
   "outputs": [],
   "source": [
    "# Load Chicago crime data\n",
    "chicago_crime_data = spark.read.csv(\"Crimes_-_2001_to_Present.csv\", header=True, schema=schema)\n"
   ]
  },
  {
   "cell_type": "code",
   "execution_count": 21,
   "metadata": {
    "id": "Rk9kXXQbsMz4"
   },
   "outputs": [],
   "source": [
    "# Remove all null values\n",
    "chicago_crime_data = chicago_crime_data.na.drop()"
   ]
  },
  {
   "cell_type": "code",
   "execution_count": 22,
   "metadata": {
    "id": "Bpdk-_00sWm4"
   },
   "outputs": [],
   "source": [
    "from pyspark.sql.functions import to_timestamp\n",
    "# Change 'Date' column data type\n",
    "chicago_crime_data = chicago_crime_data.withColumn(\"Date\", to_timestamp(\"Date\", \"MM/dd/yyyy hh:mm:ss a\"))\n"
   ]
  },
  {
   "cell_type": "code",
   "execution_count": 23,
   "metadata": {
    "id": "Si5kHq_Wsa5U"
   },
   "outputs": [],
   "source": [
    "from pyspark.sql.functions import *\n",
    "import pyspark.sql.functions as F\n",
    "import matplotlib.pyplot as plt\n",
    "# Filter data for last ten years\n",
    "\n",
    "chicago_crime_data = chicago_crime_data.filter(col(\"Year\") >= 2012) \n",
    "\n",
    "# Remove records with specific crime types\n",
    "crime_types_to_remove = ['NON-CRIMINAL (SUBJECT SPECIFIED)', 'OTHER OFFENSE', 'STALKING', 'NON - CRIMINAL', 'ARSON']\n",
    "chicago_crime_data = chicago_crime_data.filter(~chicago_crime_data[\"Primary Type\"].isin(crime_types_to_remove)) \n",
    "\n",
    "# Merge similar crime types\n",
    "chicago_crime_data = chicago_crime_data.withColumn(\"Primary Type\", when(col(\"Primary Type\").isin([\"SEX OFFENSE\", \"PROSTITUTION\"]), \"SEX CRIME\").otherwise(col(\"Primary Type\"))) \n"
   ]
  },
  {
   "cell_type": "code",
   "execution_count": 24,
   "metadata": {
    "colab": {
     "base_uri": "https://localhost:8080/"
    },
    "id": "lETWvWH0s9mL",
    "outputId": "d6d1297b-9e00-4abd-824e-d61be07ebb4e"
   },
   "outputs": [
    {
     "name": "stderr",
     "output_type": "stream",
     "text": [
      "[Stage 9:==================================================>        (6 + 1) / 7]\r"
     ]
    },
    {
     "name": "stdout",
     "output_type": "stream",
     "text": [
      "+----+------+\n",
      "|Year| count|\n",
      "+----+------+\n",
      "|2012|   164|\n",
      "|2013|   296|\n",
      "|2014|   786|\n",
      "|2015|155397|\n",
      "|2016|242602|\n",
      "|2017|240710|\n",
      "|2018|239810|\n",
      "|2019|113215|\n",
      "|2020| 16179|\n",
      "|2021|  2387|\n",
      "|2022|    28|\n",
      "+----+------+\n",
      "\n"
     ]
    },
    {
     "name": "stderr",
     "output_type": "stream",
     "text": [
      "\r",
      "                                                                                \r"
     ]
    }
   ],
   "source": [
    "# Analyze the data\n",
    "year_wise_crime = chicago_crime_data.groupBy(\"Year\").count().orderBy(\"Year\")\n",
    "# Show year-wise trend of the crime for last ten years\n",
    "year_wise_crime.show()\n",
    "\n"
   ]
  },
  {
   "cell_type": "code",
   "execution_count": 25,
   "metadata": {
    "colab": {
     "base_uri": "https://localhost:8080/"
    },
    "id": "ddXaq-9UtY7u",
    "outputId": "9768c041-8a2c-446c-94d5-539f960ec86c"
   },
   "outputs": [
    {
     "name": "stderr",
     "output_type": "stream",
     "text": [
      "[Stage 12:=================================================>        (6 + 1) / 7]\r"
     ]
    },
    {
     "name": "stdout",
     "output_type": "stream",
     "text": [
      "+----------+-----+\n",
      "|hour(Date)|count|\n",
      "+----------+-----+\n",
      "|        12|59452|\n",
      "|        18|58908|\n",
      "|        19|57821|\n",
      "|        15|55634|\n",
      "|        17|55455|\n",
      "|        20|54602|\n",
      "|        16|54474|\n",
      "|        14|51503|\n",
      "|        21|50787|\n",
      "|        22|50017|\n",
      "|        13|49082|\n",
      "|         0|47411|\n",
      "|        11|45698|\n",
      "|         9|44699|\n",
      "|        10|44001|\n",
      "|        23|41802|\n",
      "|         8|34917|\n",
      "|         1|30873|\n",
      "|         2|26658|\n",
      "|         7|24605|\n",
      "|         3|22195|\n",
      "|         6|17949|\n",
      "|         4|17583|\n",
      "|         5|15448|\n",
      "+----------+-----+\n",
      "\n"
     ]
    },
    {
     "name": "stderr",
     "output_type": "stream",
     "text": [
      "\r",
      "                                                                                \r"
     ]
    }
   ],
   "source": [
    "hour_wise_crime = chicago_crime_data.groupBy(hour(\"Date\")).count().orderBy(\"hour(Date)\")\n",
    "hour_wise_crime = hour_wise_crime.orderBy('count', ascending=False)\n",
    "# Find out at which hour of the day crime is highest\n",
    "hour_wise_crime.show(24)"
   ]
  },
  {
   "cell_type": "code",
   "execution_count": 26,
   "metadata": {
    "colab": {
     "base_uri": "https://localhost:8080/",
     "height": 391
    },
    "id": "YjEnlvZRtkwm",
    "outputId": "4f70a950-f3b2-4fee-eb70-dc1f09cc44e4"
   },
   "outputs": [
    {
     "name": "stderr",
     "output_type": "stream",
     "text": [
      "                                                                                \r"
     ]
    },
    {
     "data": {
      "text/plain": [
       "<function matplotlib.pyplot.show(close=None, block=None)>"
      ]
     },
     "execution_count": 26,
     "metadata": {},
     "output_type": "execute_result"
    },
    {
     "data": {
      "image/png": "[encoded data removed]",
      "text/plain": [
       "<Figure size 432x288 with 1 Axes>"
      ]
     },
     "metadata": {
      "needs_background": "light"
     },
     "output_type": "display_data"
    }
   ],
   "source": [
    "\n",
    "top_ten_crimes = chicago_crime_data.groupBy(\"Primary Type\").agg(F.count(\"*\").alias(\"Count\")).orderBy(col(\"Count\").desc()).limit(10)\n",
    "\n",
    "# Plot top ten crimes as a bar chart\n",
    "import matplotlib.pyplot as plt\n",
    "import pandas as pd\n",
    "\n",
    "df = top_ten_crimes.toPandas()\n",
    "plt.bar(df['Primary Type'], df['Count'])\n",
    "plt.xticks(rotation=90)\n",
    "plt.show\n"
   ]
  },
  {
   "cell_type": "code",
   "execution_count": null,
   "metadata": {
    "id": "2DT01jpUtxhh"
   },
   "outputs": [],
   "source": []
  },
  {
   "cell_type": "code",
   "execution_count": null,
   "metadata": {},
   "outputs": [],
   "source": []
  }
 ],
 "metadata": {
  "colab": {
   "provenance": []
  },
  "kernelspec": {
   "display_name": "Python 3 (ipykernel)",
   "language": "python",
   "name": "python3"
  },
  "language_info": {
   "codemirror_mode": {
    "name": "ipython",
    "version": 3
   },
   "file_extension": ".py",
   "mimetype": "text/x-python",
   "name": "python",
   "nbconvert_exporter": "python",
   "pygments_lexer": "ipython3",
   "version": "3.9.12"
  }
 },
 "nbformat": 4,
 "nbformat_minor": 1
}
