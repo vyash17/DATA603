{
 "cells": [
  {
   "cell_type": "code",
   "execution_count": 1,
   "metadata": {},
   "outputs": [],
   "source": [
    "#!pip install requests plotly dash jupyter-dash"
   ]
  },
  {
   "cell_type": "code",
   "execution_count": null,
   "metadata": {
    "id": "EOztBYu3XlAU"
   },
   "outputs": [],
   "source": [
    "import requests\n",
    "import plotly.graph_objs as go\n",
    "from jupyter_dash import JupyterDash\n",
    "import dash_core_components as dcc\n",
    "import dash_html_components as html\n",
    "from dash.dependencies import Input, Output"
   ]
  },
  {
   "cell_type": "code",
   "execution_count": 3,
   "metadata": {
    "id": "Glgk91gEXiKO"
   },
   "outputs": [
    {
     "name": "stdout",
     "output_type": "stream",
     "text": [
      "Dash is running on http://127.0.0.1:8050/\n",
      "\n"
     ]
    },
    {
     "name": "stderr",
     "output_type": "stream",
     "text": [
      "WARNING: This is a development server. Do not use it in a production deployment. Use a production WSGI server instead.\n",
      " * Running on http://127.0.0.1:8050\n",
      "Press CTRL+C to quit\n",
      "127.0.0.1 - - [14/Apr/2023 04:34:56] \"GET /_alive_152174fa-c133-480f-b26f-10e16bd06a4d HTTP/1.1\" 200 -\n"
     ]
    },
    {
     "data": {
      "text/html": [
       "\n",
       "        <iframe\n",
       "            width=\"100%\"\n",
       "            height=\"650\"\n",
       "            src=\"http://127.0.0.1:8050/\"\n",
       "            frameborder=\"0\"\n",
       "            allowfullscreen\n",
       "            \n",
       "        ></iframe>\n",
       "        "
      ],
      "text/plain": [
       "<IPython.lib.display.IFrame at 0x27b1ea0d910>"
      ]
     },
     "metadata": {},
     "output_type": "display_data"
    },
    {
     "name": "stderr",
     "output_type": "stream",
     "text": [
      "127.0.0.1 - - [14/Apr/2023 04:34:56] \"GET / HTTP/1.1\" 200 -\n",
      "127.0.0.1 - - [14/Apr/2023 04:34:56] \"GET /_dash-layout HTTP/1.1\" 200 -\n",
      "127.0.0.1 - - [14/Apr/2023 04:34:56] \"GET /_dash-dependencies HTTP/1.1\" 200 -\n",
      "127.0.0.1 - - [14/Apr/2023 04:34:57] \"GET /_dash-component-suites/dash/dcc/async-graph.js HTTP/1.1\" 304 -\n",
      "127.0.0.1 - - [14/Apr/2023 04:34:57] \"GET /_dash-component-suites/dash/dcc/async-plotlyjs.js HTTP/1.1\" 304 -\n",
      "127.0.0.1 - - [14/Apr/2023 04:34:57] \"POST /_dash-update-component HTTP/1.1\" 200 -\n",
      "127.0.0.1 - - [14/Apr/2023 04:35:02] \"POST /_dash-update-component HTTP/1.1\" 200 -\n",
      "127.0.0.1 - - [14/Apr/2023 04:35:07] \"POST /_dash-update-component HTTP/1.1\" 200 -\n",
      "127.0.0.1 - - [14/Apr/2023 04:35:12] \"POST /_dash-update-component HTTP/1.1\" 200 -\n",
      "127.0.0.1 - - [14/Apr/2023 04:35:17] \"POST /_dash-update-component HTTP/1.1\" 200 -\n",
      "127.0.0.1 - - [14/Apr/2023 04:35:22] \"POST /_dash-update-component HTTP/1.1\" 200 -\n",
      "127.0.0.1 - - [14/Apr/2023 04:35:24] \"GET / HTTP/1.1\" 200 -\n",
      "127.0.0.1 - - [14/Apr/2023 04:35:24] \"GET /_dash-component-suites/dash/deps/polyfill@7.v2_9_2m1681279265.12.1.min.js HTTP/1.1\" 200 -\n",
      "127.0.0.1 - - [14/Apr/2023 04:35:24] \"GET /_dash-component-suites/dash/deps/react@16.v2_9_2m1681279265.14.0.min.js HTTP/1.1\" 200 -\n",
      "127.0.0.1 - - [14/Apr/2023 04:35:24] \"GET /_dash-component-suites/dash/deps/react-dom@16.v2_9_2m1681279265.14.0.min.js HTTP/1.1\" 200 -\n",
      "127.0.0.1 - - [14/Apr/2023 04:35:24] \"GET /_dash-component-suites/dash/dash-renderer/build/dash_renderer.v2_9_2m1681279264.min.js HTTP/1.1\" 200 -\n",
      "127.0.0.1 - - [14/Apr/2023 04:35:24] \"GET /_dash-component-suites/dash/deps/prop-types@15.v2_9_2m1681279265.8.1.min.js HTTP/1.1\" 200 -\n",
      "127.0.0.1 - - [14/Apr/2023 04:35:25] \"GET /_dash-component-suites/dash/dcc/dash_core_components.v2_9_1m1681279265.js HTTP/1.1\" 200 -\n",
      "127.0.0.1 - - [14/Apr/2023 04:35:25] \"GET /_dash-component-suites/dash/dcc/dash_core_components-shared.v2_9_1m1681279265.js HTTP/1.1\" 200 -\n",
      "127.0.0.1 - - [14/Apr/2023 04:35:25] \"GET /_dash-component-suites/dash/html/dash_html_components.v2_0_10m1681279265.min.js HTTP/1.1\" 200 -\n",
      "127.0.0.1 - - [14/Apr/2023 04:35:25] \"GET /_dash-component-suites/dash/dash_table/bundle.v5_2_4m1681279264.js HTTP/1.1\" 200 -\n",
      "127.0.0.1 - - [14/Apr/2023 04:35:25] \"GET /_dash-layout HTTP/1.1\" 200 -\n",
      "127.0.0.1 - - [14/Apr/2023 04:35:25] \"GET /_dash-dependencies HTTP/1.1\" 200 -\n",
      "127.0.0.1 - - [14/Apr/2023 04:35:25] \"GET /_dash-component-suites/dash/dcc/async-graph.js HTTP/1.1\" 200 -\n",
      "127.0.0.1 - - [14/Apr/2023 04:35:25] \"GET /_dash-component-suites/dash/dcc/async-plotlyjs.js HTTP/1.1\" 200 -\n",
      "127.0.0.1 - - [14/Apr/2023 04:35:25] \"POST /_dash-update-component HTTP/1.1\" 200 -\n",
      "127.0.0.1 - - [14/Apr/2023 04:35:28] \"POST /_dash-update-component HTTP/1.1\" 200 -\n",
      "127.0.0.1 - - [14/Apr/2023 04:35:33] \"POST /_dash-update-component HTTP/1.1\" 200 -\n",
      "127.0.0.1 - - [14/Apr/2023 04:35:38] \"POST /_dash-update-component HTTP/1.1\" 200 -\n",
      "127.0.0.1 - - [14/Apr/2023 04:35:43] \"POST /_dash-update-component HTTP/1.1\" 200 -\n",
      "127.0.0.1 - - [14/Apr/2023 04:35:48] \"POST /_dash-update-component HTTP/1.1\" 200 -\n",
      "127.0.0.1 - - [14/Apr/2023 04:35:53] \"POST /_dash-update-component HTTP/1.1\" 200 -\n",
      "127.0.0.1 - - [14/Apr/2023 04:35:58] \"POST /_dash-update-component HTTP/1.1\" 200 -\n",
      "127.0.0.1 - - [14/Apr/2023 04:36:03] \"POST /_dash-update-component HTTP/1.1\" 200 -\n"
     ]
    }
   ],
   "source": [
    "points = []\n",
    "\n",
    "# Fetch ISS location data\n",
    "def fetch_iss_location():\n",
    "    url = \"http://api.open-notify.org/iss-now.json\"\n",
    "    response = requests.get(url)\n",
    "    data = response.json()\n",
    "\n",
    "    if data[\"message\"] == \"success\":\n",
    "        latitude = float(data[\"iss_position\"][\"latitude\"])\n",
    "        longitude = float(data[\"iss_position\"][\"longitude\"])\n",
    "        return latitude, longitude\n",
    "    else:\n",
    "        return None\n",
    "\n",
    "# Initialize the Dash app\n",
    "app = JupyterDash(__name__)\n",
    "\n",
    "app.layout = html.Div([\n",
    "    html.Div(id='coordinates', style={'whiteSpace': 'pre-line'}),\n",
    "    dcc.Graph(id='iss-track'),\n",
    "    dcc.Interval(id='interval-component', interval=5 * 1000, n_intervals=0)\n",
    "])\n",
    "\n",
    "# Update the ISS track and coordinates in real-time\n",
    "@app.callback(\n",
    "    [Output('iss-track', 'figure'), Output('coordinates', 'children')],\n",
    "    [Input('interval-component', 'n_intervals')])\n",
    "def update_iss_track(n):\n",
    "    global points\n",
    "\n",
    "    # Fetch the ISS location every 5 seconds\n",
    "    location = fetch_iss_location()\n",
    "\n",
    "    if location:\n",
    "        points.append(location)\n",
    "\n",
    "        # Update the map with the new location\n",
    "        fig = go.Figure(go.Scattergeo(\n",
    "            lat=[p[0] for p in points],\n",
    "            lon=[p[1] for p in points],\n",
    "            mode='lines+markers',\n",
    "            marker=dict(size=5, color='red'),\n",
    "            line=dict(width=2, color='blue')\n",
    "        ))\n",
    "\n",
    "        fig.update_layout(\n",
    "            title=\"Real-time ISS Tracking\",\n",
    "            geo=dict(\n",
    "                showland=True,\n",
    "                showcountries=True,\n",
    "                showocean=True,\n",
    "                countrywidth=0.5,\n",
    "                landcolor=\"rgb(243, 243, 243)\",\n",
    "                oceancolor=\"rgb(198, 219, 239)\",\n",
    "                projection_type=\"equirectangular\"\n",
    "            ),\n",
    "            margin=dict(l=10, r=10, t=40, b=10),\n",
    "            autosize=True,\n",
    "            showlegend=False\n",
    "        )\n",
    "\n",
    "        coordinates_text = \"\\n\".join([f\"Latitude: {p[0]:.2f}, Longitude: {p[1]:.2f}\" for p in points])\n",
    "        return fig, coordinates_text\n",
    "\n",
    "    return go.Figure(), \"No coordinates available\"\n",
    "\n",
    "# Run the app in the Jupyter Notebook\n",
    "app.run_server(mode='inline', debug=False)"
   ]
  },
  {
   "cell_type": "code",
   "execution_count": null,
   "metadata": {},
   "outputs": [],
   "source": []
  }
 ],
 "metadata": {
  "colab": {
   "provenance": []
  },
  "kernelspec": {
   "display_name": "Python 3 (ipykernel)",
   "language": "python",
   "name": "python3"
  },
  "language_info": {
   "codemirror_mode": {
    "name": "ipython",
    "version": 3
   },
   "file_extension": ".py",
   "mimetype": "text/x-python",
   "name": "python",
   "nbconvert_exporter": "python",
   "pygments_lexer": "ipython3",
   "version": "3.11.3"
  }
 },
 "nbformat": 4,
 "nbformat_minor": 1
}
